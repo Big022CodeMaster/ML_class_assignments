{
 "cells": [
  {
   "cell_type": "markdown",
   "metadata": {},
   "source": [
    "# Project 6\n",
    "\n",
    "Build a program which uses cross validation to find out the top 3 models configurations for the (load_digits) dataset\n",
    "- Loops\n",
    "- Logging\n",
    "- Lists\n",
    "\n",
    "Write the decision about the hyper parameters in a separate text file (summary.txt)"
   ]
  }
 ],
 "metadata": {
  "language_info": {
   "name": "python"
  },
  "orig_nbformat": 4
 },
 "nbformat": 4,
 "nbformat_minor": 2
}
